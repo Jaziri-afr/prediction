{
 "cells": [
  {
   "cell_type": "code",
   "execution_count": 95,
   "metadata": {
    "colab": {},
    "colab_type": "code",
    "id": "HLA0QIYnubLK"
   },
   "outputs": [],
   "source": [
    "import pandas as pd\n",
    "import plotly.graph_objects as go\n",
    "from fbprophet import Prophet\n",
    "from ipywidgets import interact, interactive, fixed, interact_manual\n",
    "import ipywidgets as widgets\n",
    "url = 'https://raw.githubusercontent.com/datasets/covid-19/master/data/time-series-19-covid-combined.csv'\n",
    "corona_data = pd.read_csv(url)"
   ]
  },
  {
   "cell_type": "code",
   "execution_count": 96,
   "metadata": {
    "colab": {},
    "colab_type": "code",
    "id": "0PJyeNWtuv7k"
   },
   "outputs": [],
   "source": [
    "corona_data=corona_data.drop(['Province/State','Lat','Long'], axis=1)\n",
    "corona_data = corona_data.rename(columns={'Country/Region': 'Country'})\n"
   ]
  },
  {
   "cell_type": "code",
   "execution_count": 108,
   "metadata": {},
   "outputs": [],
   "source": [
    "def pred_conf(country):\n",
    "    \n",
    "    fig = go.Figure();\n",
    "    \n",
    "\n",
    "        df_tun = corona_data[corona_data['Country'] == country]\n",
    "        confirmed_tun=df_tun.groupby('Date')['Confirmed'].sum().to_frame().reset_index()\n",
    "        confirmed_tun.columns = ['ds','y']\n",
    "        confirmed_tun['ds'] = pd.to_datetime(confirmed_tun['ds'])\n",
    "        c_tun=Prophet(yearly_seasonality=False,daily_seasonality=True)\n",
    "#Fit Model\n",
    "        c_tun.fit(confirmed_tun)\n",
    "\n",
    "#Future Dates\n",
    "        future_dates_tun=c_tun.make_future_dataframe(periods=10)\n",
    "#Prediction\n",
    "        prediction_tun=c_tun.predict(future_dates_tun)\n",
    "\n",
    "##c.add_seasonality(name='monthly',period=70,fourier_order=10)\n",
    "        data_tun = prediction_tun.rename(columns={'yhat': 'y'})\n",
    "        d_tun=prediction_tun.iloc[-10:,]\n",
    "        d_tun=d_tun[['ds','trend', 'yhat', 'yhat_lower', 'yhat_upper']]\n",
    "        f_tun=prediction_tun.iloc[-10:,]\n",
    "        f_tun=f_tun[['ds', 'yhat',]]\n",
    "        f_tun = f_tun.rename(columns={'yhat': 'y'})\n",
    "        f_tun=pd.concat([confirmed_tun,f_tun])\n",
    "    \n",
    "    \n",
    "        df_Deaths = corona_data[corona_data['Country'] == country]\n",
    "        Deaths=df_Deaths.groupby('Date')['Deaths'].sum().to_frame().reset_index()\n",
    "        Deaths.columns = ['ds','y']\n",
    "        Deaths['ds'] = pd.to_datetime(Deaths['ds'])\n",
    "        d_Deaths=Prophet(yearly_seasonality=False,daily_seasonality=True)\n",
    "#Fit Model\n",
    "        d_Deaths.fit(Deaths)\n",
    "\n",
    "#Future Dates\n",
    "        future_dates_death=d_Deaths.make_future_dataframe(periods=10)\n",
    "#Prediction\n",
    "        prediction_deaths=d_Deaths.predict(future_dates_death)\n",
    "\n",
    "##c.add_seasonality(name='monthly',period=70,fourier_order=10)\n",
    "        data_death = prediction_deaths.rename(columns={'yhat': 'y'})\n",
    "        d_death=prediction_deaths.iloc[-10:,]\n",
    "        d_death=d_death[['ds','trend', 'yhat', 'yhat_lower', 'yhat_upper']]\n",
    "        f_death=prediction_deaths.iloc[-10:,]\n",
    "        f_death=f_death[['ds', 'yhat',]]\n",
    "        f_death = f_death.rename(columns={'yhat': 'y'})\n",
    "        f_death=pd.concat([Deaths,f_death])\n",
    "    \n",
    "        df_Recovered = corona_data[corona_data['Country'] == country]\n",
    "        Recovered=df_Recovered.groupby('Date')['Recovered'].sum().to_frame().reset_index()\n",
    "        Recovered.columns = ['ds','y']\n",
    "        Recovered['ds'] = pd.to_datetime(Recovered['ds'])\n",
    "        d_Recovered=Prophet(yearly_seasonality=False,daily_seasonality=True)\n",

    "#Fit Model\n",
    "        d_Recovered.fit(Recovered)\n",
    "\n",
    "#Future Dates\n",
    "        future_dates_Recovered=d_Recovered.make_future_dataframe(periods=10)\n",
    "#Prediction\n",
    "        prediction_Recovered=d_Recovered.predict(future_dates_Recovered)\n",
    "\n",
    "##c.add_seasonality(name='monthly',period=70,fourier_order=10)\n",
    "        data_recoverd = prediction_Recovered.rename(columns={'yhat': 'y'})\n",
    "        d_recovered=prediction_Recovered.iloc[-10:,]\n",
    "        d_recovered=d_recovered[['ds','trend', 'yhat', 'yhat_lower', 'yhat_upper']]\n",
    "        f_recoverd=prediction_Recovered.iloc[-10:,]\n",
    "        f_recoverd=f_recoverd[['ds', 'yhat',]]\n",
    "        f_recoverd = f_recoverd.rename(columns={'yhat': 'y'})\n",
    "        f_recoverd=pd.concat([Recovered,f_recoverd])\n",
    "    \n",
    "\n",
    "        fig.add_trace(go.Scatter(x=f_tun['ds'], y=f_tun['y'],\n",
    "                                 mode='lines',\n",
    "                                 name='Confirmrd cases',\n",
    "                                  line=dict(color='blue', width=2)))\n",
    "        fig.add_trace(go.Scatter(x=f_death['ds'], y=f_death['y'],\n",
    "                                 mode='lines',\n",
    "                                 name='Deaths_cases',\n",
    "                                  line=dict(color='red', width=2)))\n",
    "    \n",
    "        fig.add_trace(go.Scatter(x=f_recoverd['ds'], y=f_recoverd['y'],\n",
    "                                 mode='lines',\n",
    "                                 name='Recovered cases',\n",
    "                                  line=dict(color='green', width=2)))\n",
    "\n",
    "\n",
    "        fig.update_layout(\n",
    "            title=\"COVID 19 cases of \" + country,\n",
    "            xaxis_title='Date',\n",
    "            yaxis_title='No. of Cases',\n",
    "            margin=dict(l=20, r=20, t=40, b=20),\n",
    "            paper_bgcolor=\"lightgrey\",\n",
    "            width = 800,\n",
    "        \n",
    "        );\n",
    "    \n",
    "    \n",
    "\n",
    "\n",
    "    else:\n",
    "        fig.add_trace(go.Scatter(x=[0,100], y=[0,0],\n",
    "                                mode='lines',\n",
    "                                name='Deaths_cases',\n",
    "                                line=dict(color='red', width=2)))\n",
    "        fig.update_layout(\n",
    "            title=\"COVID 19 cases of \",\n",
    "            xaxis_title='Date',\n",
    "            yaxis_title='No. of Cases',\n",
    "            margin=dict(l=20, r=20, t=40, b=20),\n",
    "            paper_bgcolor=\"lightgrey\",\n",
    "            width = 800,\n",
    "        \n",
    "        );\n",
    "    \n",
    "    \n",
    "    fig.update_yaxes(type=\"linear\");\n",
    "    fig.show();"
   ]
  },
  {
   "cell_type": "code",
   "execution_count": 109,
   "metadata": {},
   "outputs": [
    {
     "data": {
      "application/vnd.jupyter.widget-view+json": {
       "model_id": "2cd8d2daeec34fdbb5c6a02169cdad30",
       "version_major": 2,
       "version_minor": 0
      },
      "text/plain": [
       "interactive(children=(Text(value='Tunisia', description='country'), Output()), _dom_classes=('widget-interact'…"
      ]
     },
     "metadata": {},
     "output_type": "display_data"
    }
   ],
   "source": [
    "\n",
    "\n",
    "interact(pred_conf, country='Tunisia')\n",
    "\n",
    "ipywLayout = widgets.Layout(border='solid 2px green')\n",
    "ipywLayout.display='none' # uncomment this, run cell again - then the graph/figure disappears\n"
   ]
  },
  {
   "cell_type": "code",
   "execution_count": null,
   "metadata": {},
   "outputs": [],
   "source": []
  },
  {
   "cell_type": "code",
   "execution_count": null,
   "metadata": {},
   "outputs": [],
   "source": []
  }
 ],
 "metadata": {
  "colab": {
   "name": "Untitled0.ipynb",
   "provenance": []
  },
  "kernelspec": {
   "display_name": "Python 3",
   "language": "python",
   "name": "python3"
  },
  "language_info": {
   "codemirror_mode": {
    "name": "ipython",
    "version": 3
   },
   "file_extension": ".py",
   "mimetype": "text/x-python",
   "name": "python",
   "nbconvert_exporter": "python",
   "pygments_lexer": "ipython3",
   "version": "3.7.7"
  }
 },
 "nbformat": 4,
 "nbformat_minor": 1
}
